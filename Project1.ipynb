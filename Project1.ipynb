{
  "cells": [
    {
      "cell_type": "code",
      "execution_count": 1,
      "metadata": {
        "id": "h8gbnHbYKJma"
      },
      "outputs": [],
      "source": [
        "import numpy as np \n",
        "import matplotlib.pyplot as plt\n",
        "import tensorflow\n",
        "import keras\n",
        "from keras.datasets import mnist\n",
        "from keras.models import Sequential\n",
        "from keras.layers import Dense,Conv2D,MaxPool2D,Flatten,Dropout"
      ]
    },
    {
      "cell_type": "code",
      "execution_count": 2,
      "metadata": {
        "id": "87iUYV-XKf26"
      },
      "outputs": [],
      "source": [
        "# test set 10000 ảnh 0-9 \n",
        "# data set 60000 ảnh 0-9\n",
        "(x_train,y_train),(x_test,y_test) = mnist.load_data()"
      ]
    },
    {
      "cell_type": "markdown",
      "metadata": {
        "id": "8qPPAEawxtFs"
      },
      "source": [
        "tiền xử lý dữ liệu"
      ]
    },
    {
      "cell_type": "code",
      "execution_count": 3,
      "metadata": {
        "colab": {
          "base_uri": "https://localhost:8080/"
        },
        "id": "JwyxkabFK2Cu",
        "outputId": "fa40fe63-11a4-484f-b74e-38c8f5ec9a62"
      },
      "outputs": [
        {
          "name": "stdout",
          "output_type": "stream",
          "text": [
            "(60000, 28, 28)\n",
            "(60000,)\n",
            "(10000, 28, 28)\n",
            "(10000,)\n"
          ]
        }
      ],
      "source": [
        "# kích thước ảnh 28 x 28\n",
        "print(x_train.shape) \n",
        "print(y_train.shape)\n",
        "print(x_test.shape)\n",
        "print(y_test.shape)\n"
      ]
    },
    {
      "cell_type": "code",
      "execution_count": 4,
      "metadata": {
        "id": "6rd5ud5ELdiM"
      },
      "outputs": [],
      "source": [
        "#plot train image\n",
        "def plot_input_image(i):\n",
        "  plt.imshow(x_train[i],cmap = 'binary')\n",
        "  plt.title(y_train[i])\n",
        "  plt.show()\n",
        "\n",
        "# for i in range(1):\n",
        "#   plot_input_image(i)"
      ]
    },
    {
      "cell_type": "code",
      "execution_count": 5,
      "metadata": {
        "id": "vOwxrbmkNAdk"
      },
      "outputs": [
        {
          "name": "stdout",
          "output_type": "stream",
          "text": [
            "(60000, 28, 28, 1)\n"
          ]
        }
      ],
      "source": [
        "# tiền xử lý hình ảnh \n",
        "# chuẩn hóa về khoảng [0,1]\n",
        "# giá trị 1 điểm ảnh nằm từ 0 đến 255\n",
        "\n",
        "x_train = x_train.astype(np.float32)/255\n",
        "x_test = x_test.astype(np.float32)/255\n",
        "\n",
        "# đưa dữ liệu hình ảnh  \n",
        "x_train = np.expand_dims(x_train,-1)\n",
        "x_test = np.expand_dims(x_test,-1)\n",
        "print(x_train.shape)\n",
        "\n"
      ]
    },
    {
      "cell_type": "code",
      "execution_count": 6,
      "metadata": {
        "id": "XblAMdOqQEjr"
      },
      "outputs": [],
      "source": [
        "# chuyển label về 1 hot vector\n",
        "y_train = tensorflow.keras.utils.to_categorical(y_train)\n",
        "y_test = tensorflow.keras.utils.to_categorical(y_test)"
      ]
    },
    {
      "cell_type": "code",
      "execution_count": 7,
      "metadata": {
        "id": "AwB4kso8jQTW"
      },
      "outputs": [],
      "source": [
        "model = Sequential()\n",
        "model.add(Conv2D(32,(3,3),input_shape = (28,28,1),activation='relu'))\n",
        "model.add(MaxPool2D(2,2))\n",
        "\n",
        "model.add(Conv2D(64,(3,3),activation='relu'))\n",
        "model.add(MaxPool2D(2,2))\n",
        "\n",
        "model.add(Flatten())\n",
        "model.add(Dropout(0.25))\n",
        "#10 class => 10 \n",
        "model.add(Dense(10,activation='softmax'))\n"
      ]
    },
    {
      "cell_type": "code",
      "execution_count": 8,
      "metadata": {
        "colab": {
          "base_uri": "https://localhost:8080/"
        },
        "id": "_0jsdiB6mGuc",
        "outputId": "6d543fc3-ee50-4869-a3a2-787f5292cb52"
      },
      "outputs": [
        {
          "name": "stdout",
          "output_type": "stream",
          "text": [
            "Model: \"sequential\"\n",
            "_________________________________________________________________\n",
            "Layer (type)                 Output Shape              Param #   \n",
            "=================================================================\n",
            "conv2d (Conv2D)              (None, 26, 26, 32)        320       \n",
            "_________________________________________________________________\n",
            "max_pooling2d (MaxPooling2D) (None, 13, 13, 32)        0         \n",
            "_________________________________________________________________\n",
            "conv2d_1 (Conv2D)            (None, 11, 11, 64)        18496     \n",
            "_________________________________________________________________\n",
            "max_pooling2d_1 (MaxPooling2 (None, 5, 5, 64)          0         \n",
            "_________________________________________________________________\n",
            "flatten (Flatten)            (None, 1600)              0         \n",
            "_________________________________________________________________\n",
            "dropout (Dropout)            (None, 1600)              0         \n",
            "_________________________________________________________________\n",
            "dense (Dense)                (None, 10)                16010     \n",
            "=================================================================\n",
            "Total params: 34,826\n",
            "Trainable params: 34,826\n",
            "Non-trainable params: 0\n",
            "_________________________________________________________________\n"
          ]
        }
      ],
      "source": [
        "model.summary()"
      ]
    },
    {
      "cell_type": "code",
      "execution_count": 9,
      "metadata": {
        "id": "xR5kbeG7qWqf"
      },
      "outputs": [],
      "source": [
        "model.compile(optimizer='adam',\n",
        "              loss = keras.losses.categorical_crossentropy,\n",
        "              metrics='accuracy')"
      ]
    },
    {
      "cell_type": "code",
      "execution_count": 10,
      "metadata": {
        "id": "Hg0QxS24tVbM"
      },
      "outputs": [],
      "source": [
        "# callback\n",
        "from keras.callbacks import EarlyStopping, ModelCheckpoint\n",
        "\n",
        "# earlystopping\n",
        "# monitor : thang đánh giá \n",
        "# min_delta: độ tăng tối thiểu để đc coi là chất lượng tăng\n",
        "# patience: sau 4 lần epoch mà chất lượng models ko tăng thì dừng\n",
        "\n",
        "es = EarlyStopping(monitor = 'val_accuracy',min_delta = 0.01, patience = 4,verbose = 1)\n",
        "\n",
        "# model checkpoint\n",
        "mc = ModelCheckpoint('./mymodel.h5',monitor='val_accuracy',verbose = 1,save_best_only = True)\n",
        "\n",
        "cb = [es,mc]\n",
        "# cb =[mc]\n"
      ]
    },
    {
      "cell_type": "markdown",
      "metadata": {
        "id": "RZgtG7kszDY4"
      },
      "source": [
        "huấn luyện mô hình"
      ]
    },
    {
      "cell_type": "code",
      "execution_count": 11,
      "metadata": {
        "colab": {
          "base_uri": "https://localhost:8080/"
        },
        "id": "aQOvIONmzVY5",
        "outputId": "6e20a441-e6c6-46fe-b1e9-30d74b18325a"
      },
      "outputs": [
        {
          "name": "stdout",
          "output_type": "stream",
          "text": [
            "Epoch 1/20\n",
            "1313/1313 [==============================] - 28s 20ms/step - loss: 0.4762 - accuracy: 0.8545 - val_loss: 0.0819 - val_accuracy: 0.9767\n",
            "\n",
            "Epoch 00001: val_accuracy improved from -inf to 0.97667, saving model to .\\mymodel.h5\n",
            "Epoch 2/20\n",
            "1313/1313 [==============================] - 29s 22ms/step - loss: 0.0768 - accuracy: 0.9774 - val_loss: 0.0553 - val_accuracy: 0.9833\n",
            "\n",
            "Epoch 00002: val_accuracy improved from 0.97667 to 0.98333, saving model to .\\mymodel.h5\n",
            "Epoch 3/20\n",
            "1313/1313 [==============================] - 26s 20ms/step - loss: 0.0561 - accuracy: 0.9816 - val_loss: 0.0508 - val_accuracy: 0.9847\n",
            "\n",
            "Epoch 00003: val_accuracy improved from 0.98333 to 0.98472, saving model to .\\mymodel.h5\n",
            "Epoch 4/20\n",
            "1313/1313 [==============================] - 29s 22ms/step - loss: 0.0458 - accuracy: 0.9863 - val_loss: 0.0480 - val_accuracy: 0.9867\n",
            "\n",
            "Epoch 00004: val_accuracy improved from 0.98472 to 0.98667, saving model to .\\mymodel.h5\n",
            "Epoch 5/20\n",
            "1313/1313 [==============================] - 27s 20ms/step - loss: 0.0392 - accuracy: 0.9876 - val_loss: 0.0525 - val_accuracy: 0.9847\n",
            "\n",
            "Epoch 00005: val_accuracy did not improve from 0.98667\n",
            "Epoch 00005: early stopping\n"
          ]
        }
      ],
      "source": [
        "hi = model.fit(x_train,y_train,epochs = 20,validation_split=0.3,callbacks = cb)"
      ]
    },
    {
      "cell_type": "code",
      "execution_count": 12,
      "metadata": {
        "colab": {
          "base_uri": "https://localhost:8080/",
          "height": 328
        },
        "id": "QVxPROVj4Byo",
        "outputId": "59423969-d131-49d7-ff75-9cf02bc6a9cc"
      },
      "outputs": [],
      "source": [
        "model_S = keras.models.load_model('D:\\project1\\mymodel.h5')"
      ]
    },
    {
      "cell_type": "code",
      "execution_count": 13,
      "metadata": {},
      "outputs": [
        {
          "name": "stdout",
          "output_type": "stream",
          "text": [
            "313/313 [==============================] - 2s 5ms/step - loss: 0.0364 - accuracy: 0.9883\n",
            "[0.036394719034433365, 0.9883000254631042]\n"
          ]
        }
      ],
      "source": [
        "score = model_S.evaluate(x_test,y_test)\n",
        "print(score)"
      ]
    }
  ],
  "metadata": {
    "colab": {
      "collapsed_sections": [],
      "name": "Project1.ipynb",
      "provenance": []
    },
    "kernelspec": {
      "display_name": "Python 3",
      "name": "python3"
    },
    "language_info": {
      "codemirror_mode": {
        "name": "ipython",
        "version": 3
      },
      "file_extension": ".py",
      "mimetype": "text/x-python",
      "name": "python",
      "nbconvert_exporter": "python",
      "pygments_lexer": "ipython3",
      "version": "3.9.1"
    }
  },
  "nbformat": 4,
  "nbformat_minor": 0
}
